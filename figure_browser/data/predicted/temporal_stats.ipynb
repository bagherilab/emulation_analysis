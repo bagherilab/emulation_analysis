{
 "cells": [
  {
   "cell_type": "code",
   "execution_count": 5,
   "metadata": {},
   "outputs": [],
   "source": [
    "import itertools\n",
    "import pandas as pd\n",
    "import numpy as np\n",
    "import scipy.stats as stats\n",
    "\n",
    "from ast import literal_eval\n",
    "\n",
    "\n",
    "contexts = [\"C\", \"CH\"]\n",
    "responses = [\"ACTIVITY\", \"GROWTH\", \"SYMMETRY\"]\n",
    "models = [\"MLR\", \"RF\", \"SVR\", \"MLP\"]\n",
    "timepoints = [1, 2, 3, 4, 5, 6, 7, 8, 9, 10, 11, 12, 13, 14, 15]\n"
   ]
  },
  {
   "cell_type": "code",
   "execution_count": 7,
   "metadata": {},
   "outputs": [
    {
     "name": "stdout",
     "output_type": "stream",
     "text": [
      "C ACTIVITY MLR\n",
      "C ACTIVITY RF\n",
      "C ACTIVITY SVR\n",
      "C ACTIVITY MLP\n",
      "C GROWTH MLR\n",
      "C GROWTH RF\n",
      "C GROWTH SVR\n",
      "C GROWTH MLP\n",
      "C SYMMETRY MLR\n",
      "C SYMMETRY RF\n",
      "C SYMMETRY SVR\n",
      "C SYMMETRY MLP\n",
      "CH ACTIVITY MLR\n",
      "CH ACTIVITY RF\n",
      "CH ACTIVITY SVR\n",
      "CH ACTIVITY MLP\n",
      "CH GROWTH MLR\n",
      "CH GROWTH RF\n",
      "CH GROWTH SVR\n",
      "CH GROWTH MLP\n",
      "CH SYMMETRY MLR\n",
      "CH SYMMETRY RF\n",
      "CH SYMMETRY SVR\n",
      "CH SYMMETRY MLP\n"
     ]
    }
   ],
   "source": [
    "data_path = \"temporal.csv\"\n",
    "temporal_data = pd.read_csv(data_path)\n",
    "temporal_sig = pd.DataFrame(columns=[\"context\", \"response\", \"model\", \"pvalues\"])\n",
    "for context, response, model in itertools.product(contexts, responses, models):\n",
    "    initial_tp_rmses = literal_eval(temporal_data[(temporal_data[\"context\"] == context) & (temporal_data[\"response\"] == response) & (temporal_data[\"model\"] == model) & (temporal_data[\"timepoint\"] == 0)][\"test_rmses\"].values[0])\n",
    "    print(context, response, model)\n",
    "    # Perform Dunnett test on the other timepoints vs the initial timepoint\n",
    "    full_rmses = []\n",
    "    for timepoint in timepoints:\n",
    "        full_rmses.append(literal_eval(temporal_data[(temporal_data[\"context\"] == context) & (temporal_data[\"response\"] == response) & (temporal_data[\"model\"] == model) & (temporal_data[\"timepoint\"] == timepoint)][\"test_rmses\"].values[0]))\n",
    "    res = stats.dunnett(full_rmses[0], full_rmses[1], full_rmses[2], \n",
    "                        full_rmses[3], full_rmses[4], full_rmses[5],\n",
    "                        full_rmses[6], full_rmses[7], full_rmses[8],\n",
    "                        full_rmses[9], full_rmses[10], full_rmses[11],\n",
    "                        full_rmses[12], full_rmses[13], full_rmses[14],\n",
    "                        control=initial_tp_rmses, alternative=\"less\")\n",
    "\n",
    "    # Store pvalue list in dataframe\n",
    "    temporal_sig = pd.concat([temporal_sig, pd.DataFrame([[context, response, model, list(res.pvalue)]], columns=[\"context\", \"response\", \"model\", \"pvalues\"])])\n",
    "\n",
    "temporal_sig.to_csv(\"temporal_sig.csv\", index=False)\n",
    "\n",
    "\n"
   ]
  }
 ],
 "metadata": {
  "kernelspec": {
   "display_name": ".venv",
   "language": "python",
   "name": "python3"
  },
  "language_info": {
   "codemirror_mode": {
    "name": "ipython",
    "version": 3
   },
   "file_extension": ".py",
   "mimetype": "text/x-python",
   "name": "python",
   "nbconvert_exporter": "python",
   "pygments_lexer": "ipython3",
   "version": "3.10.6"
  }
 },
 "nbformat": 4,
 "nbformat_minor": 2
}
